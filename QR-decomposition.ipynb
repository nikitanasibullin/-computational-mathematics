{
 "cells": [
  {
   "cell_type": "code",
   "execution_count": 3,
   "id": "1fff1ee5-4e68-4bc7-b373-daa6de5b721f",
   "metadata": {},
   "outputs": [],
   "source": [
    "import numpy as np\n",
    "import random"
   ]
  },
  {
   "cell_type": "markdown",
   "id": "1827c164-6188-4af6-92f9-fd5502372c26",
   "metadata": {},
   "source": [
    "# Алгоритм на основе отражений Хаусхолдера"
   ]
  },
  {
   "cell_type": "markdown",
   "id": "0e642ab0-48cf-4733-a880-a46e46162a14",
   "metadata": {},
   "source": [
    "### Создание матрицы [nxn]"
   ]
  },
  {
   "cell_type": "code",
   "execution_count": 4,
   "id": "a9561c34-87b0-47da-b640-977df6d65989",
   "metadata": {},
   "outputs": [
    {
     "name": "stdout",
     "output_type": "stream",
     "text": [
      "[[40.57324253 65.81319154 86.41706289 95.11729916]\n",
      " [39.46586038 53.39393525 28.27526113 79.69536067]\n",
      " [59.60997641 56.48302425 39.84873858 77.25900903]\n",
      " [95.81737709 77.12520393 12.09432429  8.38864523]]\n"
     ]
    }
   ],
   "source": [
    "n=4\n",
    "A = np.array([[random.random() for i in range(n)] for j in range(n)])*100\n",
    "print(A)"
   ]
  },
  {
   "attachments": {
    "e6d5cb1e-4fd8-4526-a10a-533c1b256edb.png": {
     "image/png": "[encoded data removed]"
    }
   },
   "cell_type": "markdown",
   "id": "c408cd15-0528-4fa9-a211-c84cb6e5666a",
   "metadata": {},
   "source": [
    "\n",
    "### Пусть X — первый столбец матрицы A, ||X||=|$\\alpha$|\n",
    "![image.png](attachment:e6d5cb1e-4fd8-4526-a10a-533c1b256edb.png)\n",
    "\n",
    "### где Q - матрица Хаусхолдера\n"
   ]
  },
  {
   "cell_type": "code",
   "execution_count": 5,
   "id": "4e96f007-b530-405b-b22e-fb1ece7b66bc",
   "metadata": {},
   "outputs": [],
   "source": [
    "def FindQ(A,n):\n",
    "    I=np.eye(n)\n",
    "\n",
    "    X=A[:,0]\n",
    "    normX=np.linalg.norm(X,2)\n",
    "\n",
    "    if normX < 1e-12:\n",
    "        return I\n",
    "    \n",
    "    U=X-normX*I[:,0]\n",
    "    V=U/np.linalg.norm(U,2)\n",
    "    VT=V.reshape(n,1)\n",
    "    \n",
    "    Q=I-2*np.outer(V, V)\n",
    "    return Q"
   ]
  },
  {
   "cell_type": "code",
   "execution_count": 6,
   "id": "177a2524-68f8-4288-9e18-2b02b1b9dedb",
   "metadata": {},
   "outputs": [],
   "source": [
    "I=np.eye(n)\n",
    "Q=np.eye(n)\n",
    "R=np.eye(n)\n",
    "Ai=A"
   ]
  },
  {
   "attachments": {
    "c0e8cc3a-54c4-451b-b06a-566d9034a5a3.png": {
     "image/png": "[encoded data removed]"
    }
   },
   "cell_type": "markdown",
   "id": "5bb6ff37-68c5-43fb-8298-61ddd098a03f",
   "metadata": {},
   "source": [
    "\n",
    "![image.png](attachment:c0e8cc3a-54c4-451b-b06a-566d9034a5a3.png)"
   ]
  },
  {
   "cell_type": "code",
   "execution_count": 7,
   "id": "cdf0e818-4f9c-456f-aca4-f75fc85ea2f9",
   "metadata": {},
   "outputs": [
    {
     "name": "stdout",
     "output_type": "stream",
     "text": [
      "[[ 1.26246034e+02  1.23048449e+02  6.46068354e+01  9.83290206e+01]\n",
      " [-6.90452891e-15  3.43510831e+01  7.07661474e+01  9.97577562e+01]\n",
      " [ 1.10465212e-14  8.99355631e-15  2.86304559e+01  8.42092368e+00]\n",
      " [-8.32196544e-15 -8.75478670e-15  1.93531218e-15 -4.17954159e+01]]\n"
     ]
    }
   ],
   "source": [
    "for i in range(n-1):\n",
    "    An=Ai[i:n,i:n]\n",
    "    Qn=FindQ(An,n-i)\n",
    "    Qi=np.block([[np.eye(i), np.zeros([i,n-i])],[ np.zeros([n-i,i]), Qn]])\n",
    "    Q=Qi@Q\n",
    "    Ai=Qi@Ai\n",
    "R=Q@A\n",
    "Q=Q.T\n",
    "print(R)"
   ]
  },
  {
   "cell_type": "code",
   "execution_count": 8,
   "id": "abd76824-d125-4f8b-8232-6e8c658d0298",
   "metadata": {},
   "outputs": [],
   "source": [
    "def RSolution(A,b,n):\n",
    "    x=np.zeros(n)\n",
    "    for i in range(n-1,-1,-1):\n",
    "        summ=0\n",
    "        for j in range(i+1,n):\n",
    "            summ+=A[i][j]*x[j]\n",
    "        x[i]=(b[i]-summ)/A[i][i]\n",
    "    return x"
   ]
  },
  {
   "cell_type": "markdown",
   "id": "e509ebd4-4358-49ed-9809-32de17329d80",
   "metadata": {},
   "source": [
    "$$QR=b   \\ \\ \\ => \\ \\ \\    R=Q^Tb$$"
   ]
  },
  {
   "cell_type": "code",
   "execution_count": 10,
   "id": "4f4dd1c0-1f7f-4d5e-aee0-310ee3765a2d",
   "metadata": {},
   "outputs": [
    {
     "name": "stdout",
     "output_type": "stream",
     "text": [
      "A=[[40.57324253 65.81319154 86.41706289 95.11729916]\n",
      " [39.46586038 53.39393525 28.27526113 79.69536067]\n",
      " [59.60997641 56.48302425 39.84873858 77.25900903]\n",
      " [95.81737709 77.12520393 12.09432429  8.38864523]]\n",
      "b=[0.64233786 0.69033922 0.60176082 0.05315167]\n",
      "x=[-0.001456    0.00206667 -0.00371006  0.00931493]\n",
      "[-1.11022302e-16 -1.11022302e-16  1.11022302e-16  1.38777878e-16]\n"
     ]
    }
   ],
   "source": [
    "b=np.array([random.random() for i in range(n)])\n",
    "x=RSolution(R,Q.T@b,n)\n",
    "print(f'A={A}')\n",
    "print(f'b={b}')\n",
    "print(f'x={x}')\n",
    "print(A@x-b)"
   ]
  },
  {
   "cell_type": "code",
   "execution_count": null,
   "id": "8c8c6e48-ec86-4620-8001-eae4af11dadb",
   "metadata": {},
   "outputs": [],
   "source": []
  }
 ],
 "metadata": {
  "kernelspec": {
   "display_name": "Python 3 (ipykernel)",
   "language": "python",
   "name": "python3"
  },
  "language_info": {
   "codemirror_mode": {
    "name": "ipython",
    "version": 3
   },
   "file_extension": ".py",
   "mimetype": "text/x-python",
   "name": "python",
   "nbconvert_exporter": "python",
   "pygments_lexer": "ipython3",
   "version": "3.11.4"
  }
 },
 "nbformat": 4,
 "nbformat_minor": 5
}
