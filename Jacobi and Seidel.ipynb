{
 "cells": [
  {
   "cell_type": "code",
   "execution_count": 3,
   "id": "501e6c83-d236-47c9-bf43-c61be7e40f49",
   "metadata": {},
   "outputs": [],
   "source": [
    "import numpy as np\n",
    "import random\n",
    "import pandas as pd"
   ]
  },
  {
   "cell_type": "code",
   "execution_count": 4,
   "id": "f99b25e0-2a17-41bd-a447-e6e324af53a0",
   "metadata": {},
   "outputs": [
    {
     "name": "stdout",
     "output_type": "stream",
     "text": [
      "[[0.80123451 0.13780526 0.31216401 0.07847971]\n",
      " [0.94466666 2.44758246 0.51302322 0.18136096]\n",
      " [0.58632541 0.92070157 1.90314929 0.21000292]\n",
      " [0.41030029 0.43437848 0.05861599 1.73501433]]\n"
     ]
    }
   ],
   "source": [
    "n=4\n",
    "A = np.array([[random.random() for i in range(n)] for j in range(n)])\n",
    "A0 = np.copy(A)\n",
    "for i in range(n):\n",
    "    A[i,i]=sum(abs(A[i,:]))\n",
    "print(A)"
   ]
  },
  {
   "cell_type": "markdown",
   "id": "d9bb7aa1-f313-4cce-a1c4-40d2f14024d1",
   "metadata": {},
   "source": [
    "# Метод Якоби\n",
    "### Составим матрицу В и вектор С\n",
    "$$B = E - D^{-1}A \\ \\ \\ \\ \\ C=D^{-1}b$$"
   ]
  },
  {
   "cell_type": "code",
   "execution_count": 5,
   "id": "5efe0fb9-3cc8-4db4-b8c2-3f74c1d1aaec",
   "metadata": {},
   "outputs": [
    {
     "name": "stdout",
     "output_type": "stream",
     "text": [
      "D=\n",
      "[[0.80123451 0.         0.         0.        ]\n",
      " [0.         2.44758246 0.         0.        ]\n",
      " [0.         0.         1.90314929 0.        ]\n",
      " [0.         0.         0.         1.73501433]]\n",
      "invD=\n",
      "[[1.24807406 0.         0.         0.        ]\n",
      " [0.         0.40856642 0.         0.        ]\n",
      " [0.         0.         0.52544485 0.        ]\n",
      " [0.         0.         0.         0.57636412]]\n"
     ]
    }
   ],
   "source": [
    "diagonal=np.diag(A)\n",
    "invDiagonal = diagonal\n",
    "D=np.diag(diagonal)\n",
    "invD=np.zeros([n,n])\n",
    "for i in range (n):\n",
    "    invD[i,i] = 1/D[i,i]\n",
    "print(f'D=\\n{D}')\n",
    "print(f'invD=\\n{invD}')"
   ]
  },
  {
   "cell_type": "code",
   "execution_count": 6,
   "id": "84b57e4c-d724-4b79-9354-7911b7a61ac9",
   "metadata": {},
   "outputs": [
    {
     "data": {
      "text/plain": [
       "array([[ 1.11022302e-16, -1.71991168e-01, -3.89603805e-01,\n",
       "        -9.79484908e-02],\n",
       "       [-3.85959075e-01,  1.11022302e-16, -2.09604059e-01,\n",
       "        -7.40979982e-02],\n",
       "       [-3.08081669e-01, -4.83777903e-01,  1.11022302e-16,\n",
       "        -1.10344954e-01],\n",
       "       [-2.36482365e-01, -2.50360171e-01, -3.37841528e-02,\n",
       "         0.00000000e+00]])"
      ]
     },
     "execution_count": 6,
     "metadata": {},
     "output_type": "execute_result"
    }
   ],
   "source": [
    "b=np.array([random.random() for i in range(n)])\n",
    "B=np.eye(n)-invD@A\n",
    "C=invD@b\n",
    "xJ=C\n",
    "B"
   ]
  },
  {
   "cell_type": "markdown",
   "id": "3d629dea-8872-4163-bcbd-85f6ed88f57f",
   "metadata": {},
   "source": [
    "### Выполним априорную оценку"
   ]
  },
  {
   "cell_type": "code",
   "execution_count": 7,
   "id": "cfeaa74c-aa0c-4ff8-a27b-e1c32ecbda0a",
   "metadata": {},
   "outputs": [
    {
     "name": "stdout",
     "output_type": "stream",
     "text": [
      "Априорная оценка = 372\n"
     ]
    }
   ],
   "source": [
    "Eps=1e-12\n",
    "Bnorm=np.linalg.norm(B)\n",
    "cntPrior=0\n",
    "Bk=1\n",
    "while Bk*Bnorm/(1-Bnorm)*np.linalg.norm(C)>Eps:\n",
    "    cntPrior+=1\n",
    "    Bk*=Bnorm\n",
    "print(f'Априорная оценка = {cntPrior}')"
   ]
  },
  {
   "cell_type": "markdown",
   "id": "62741e74-ce34-49d9-a45a-c6e4a87da0d4",
   "metadata": {},
   "source": [
    "### Выполним апостериорную оценку"
   ]
  },
  {
   "cell_type": "code",
   "execution_count": 6,
   "id": "e18042bf-825a-4501-9a85-9e21d24b5a26",
   "metadata": {},
   "outputs": [],
   "source": [
    "cntPost=0"
   ]
  },
  {
   "cell_type": "code",
   "execution_count": 8,
   "id": "09c1beac-f71d-410a-be71-190c2534834d",
   "metadata": {},
   "outputs": [
    {
     "name": "stdout",
     "output_type": "stream",
     "text": [
      "Апостериорная оценка = 86\n",
      "[-1.98174810e-13 -1.65478742e-13 -1.71179043e-13 -1.71002101e-13]\n",
      "[2.63233879e-13 6.45483667e-13 5.61509172e-13 7.32303107e-13]\n"
     ]
    }
   ],
   "source": [
    "x_new=xJ\n",
    "Bnorm=np.linalg.norm(B)\n",
    "Bk=1\n",
    "while True:\n",
    "    xJ=x_new\n",
    "    cntPost=cntPost+1\n",
    "    x_new=B@xJ+C\n",
    "    if np.linalg.norm(x_new-xJ)<Eps :\n",
    "        break\n",
    "xJ=x_new\n",
    "print(f'Апостериорная оценка = {cntPost}')\n",
    "print(np.linalg.solve(A,b)-xJ)\n",
    "print(A@xJ-b)\n"
   ]
  },
  {
   "cell_type": "markdown",
   "id": "37612b05-584e-4341-8362-27bddc6ceb65",
   "metadata": {},
   "source": [
    "# Метод Зейделя"
   ]
  },
  {
   "cell_type": "code",
   "execution_count": 9,
   "id": "4a2037b8-007a-4e92-a09c-e417afead73a",
   "metadata": {},
   "outputs": [
    {
     "name": "stdout",
     "output_type": "stream",
     "text": [
      "[[0.76862048 0.15978974 0.29266931 0.20115272]\n",
      " [0.55294273 2.25694131 0.01823037 0.93092365]\n",
      " [0.090969   0.64032439 1.89838031 0.65844047]\n",
      " [0.92057823 0.19756782 0.54529779 2.47806121]]\n"
     ]
    }
   ],
   "source": [
    "print(A)"
   ]
  },
  {
   "cell_type": "code",
   "execution_count": 23,
   "id": "c92a5b94-d704-45ef-a638-94ea51bc551f",
   "metadata": {},
   "outputs": [
    {
     "name": "stdout",
     "output_type": "stream",
     "text": [
      "Априорная оценка = 79\n",
      "85\n",
      "[9.32587341e-15 2.56905608e-13 1.83394966e-13 0.00000000e+00]\n"
     ]
    }
   ],
   "source": [
    "\n",
    "D = np.diag(np.diag(A))\n",
    "L = np.tril(A, k=-1)             # нижняя треугольная\n",
    "U = np.triu(A, k=1)              #верхняя треугольная\n",
    "\n",
    "\n",
    "DplusL = D + L\n",
    "DplusLinv = np.linalg.inv(DplusL)\n",
    "B = -DplusLinv @ U  \n",
    "\n",
    "Eps=1e-12\n",
    "Bnorm=np.linalg.norm(B)\n",
    "cntPrior=0\n",
    "Bk=1\n",
    "while Bk*Bnorm/(1-Bnorm*np.linalg.norm(C))>Eps: #log\n",
    "    cntPrior+=1\n",
    "    Bk*=Bnorm\n",
    "print(f'Априорная оценка = {cntPrior}')\n",
    "\n",
    "xS=C\n",
    "cntZ=1\n",
    "cnt=10000\n",
    "while cnt!=0:\n",
    "    x_new = np.copy(xS)\n",
    "    for i in range(n):\n",
    "        # Сумма элементов строки i, умноженных на новые x[j] (j < i)\n",
    "        sumLeft = np.dot(A[i, :i], x_new[:i])\n",
    "        # Сумма элементов строки i, умноженных на старые x[j] (j > i)\n",
    "        sumRight = np.dot(A[i, i+1:], xS[i+1:])\n",
    "        x_new[i] = (b[i] - sumLeft - sumRight) / A[i, i]\n",
    "        cntZ+=1\n",
    "    \n",
    "    if Bnorm/(1-Bnormnp.linalg.norm(xS-x_new) < Eps:\n",
    "        break\n",
    "    xS = x_new\n",
    "    cnt-=1\n",
    "print(cntZ)\n",
    "print(A@x_new-b)"
   ]
  },
  {
   "cell_type": "markdown",
   "id": "e97c8b44-e426-4077-bdb6-4565bafa7fff",
   "metadata": {},
   "source": [
    "# Проверим методы на матрицах без диагонального преобладания\n",
    "## Та же матрица, но без ухищрений с диагональю:"
   ]
  },
  {
   "cell_type": "code",
   "execution_count": 25,
   "id": "507c7629-c83f-45e1-9a79-c69228105344",
   "metadata": {},
   "outputs": [
    {
     "name": "stdout",
     "output_type": "stream",
     "text": [
      "[[1.2413445  1.618875   0.81371815 1.33131449]\n",
      " [1.618875   2.56490661 1.350477   1.97070438]\n",
      " [0.81371815 1.350477   0.85338575 0.93507022]\n",
      " [1.33131449 1.97070438 0.93507022 1.60596034]]\n"
     ]
    }
   ],
   "source": [
    "A0=A0@A0.T\n",
    "print(A0)"
   ]
  },
  {
   "cell_type": "markdown",
   "id": "27ddbc6f-e913-4d54-810f-816ae04b67e0",
   "metadata": {},
   "source": [
    "## Метод якоби"
   ]
  },
  {
   "cell_type": "code",
   "execution_count": 26,
   "id": "b38134ab-1334-47de-8d9d-159de5ce31c2",
   "metadata": {},
   "outputs": [
    {
     "name": "stdout",
     "output_type": "stream",
     "text": [
      "D0=\n",
      "[[1.2413445  0.         0.         0.        ]\n",
      " [0.         2.56490661 0.         0.        ]\n",
      " [0.         0.         0.85338575 0.        ]\n",
      " [0.         0.         0.         1.60596034]]\n",
      "invD0=\n",
      "[[0.80557814 0.         0.         0.        ]\n",
      " [0.         0.38987774 0.         0.        ]\n",
      " [0.         0.         1.17180302 0.        ]\n",
      " [0.         0.         0.         0.62268038]]\n"
     ]
    }
   ],
   "source": [
    "diagonal0=np.diag(A0)\n",
    "invDiagonal0 = diagonal0\n",
    "D0=np.diag(diagonal0)\n",
    "invD0=np.zeros([n,n])\n",
    "for i in range (n):\n",
    "    invD0[i,i] = 1/D0[i,i]\n",
    "print(f'D0=\\n{D0}')\n",
    "print(f'invD0=\\n{invD0}')"
   ]
  },
  {
   "cell_type": "code",
   "execution_count": 27,
   "id": "f7af4491-0673-4d76-b107-005e9ab2144d",
   "metadata": {},
   "outputs": [],
   "source": [
    "B0=np.eye(n)-invD0@A0\n",
    "C0=invD0@b\n",
    "xJ0=C0"
   ]
  },
  {
   "cell_type": "code",
   "execution_count": 28,
   "id": "16560c91-cdfd-4a7b-aecc-2a8808b56192",
   "metadata": {},
   "outputs": [
    {
     "name": "stdout",
     "output_type": "stream",
     "text": [
      "[1.80473243e+33 2.70013899e+33 1.43515798e+33 2.09493013e+33]\n"
     ]
    }
   ],
   "source": [
    "cnt=cntPost\n",
    "while cnt>0:\n",
    "    cnt-=1\n",
    "    xJ0=B0@xJ0+C0\n",
    "\n",
    "print(A0@xJ0-b)"
   ]
  },
  {
   "cell_type": "markdown",
   "id": "3a16c8d5-fc0a-49fd-a7fd-9a3504c62673",
   "metadata": {},
   "source": [
    "### Не сходится\n",
    "# Метод Зейделя?"
   ]
  },
  {
   "cell_type": "code",
   "execution_count": 35,
   "id": "ff6b7d75-ddb7-45af-99e5-79faf63836e5",
   "metadata": {},
   "outputs": [
    {
     "name": "stdout",
     "output_type": "stream",
     "text": [
      "[ 1.44328993e-15 -9.40358902e-14 -1.31006317e-14  4.60742555e-14]\n"
     ]
    }
   ],
   "source": [
    "\n",
    "xS0=np.zeros(n)\n",
    "cnt=cntPost+100000\n",
    "while cnt!=0:\n",
    "    x_new = np.copy(xS0)\n",
    "    for i in range(n):\n",
    "        # Сумма элементов строки i, умноженных на новые x[j] (j < i)\n",
    "        sumLeft = np.dot(A0[i, :i], x_new[:i])\n",
    "        # Сумма элементов строки i, умноженных на старые x[j] (j > i)\n",
    "        sumRight = np.dot(A0[i, i+1:], xS0[i+1:])\n",
    "        x_new[i] = (b[i] - sumLeft - sumRight) / A0[i, i]\n",
    "    xS0 = x_new\n",
    "    cnt-=1\n",
    "print(A0@xS0-b)"
   ]
  },
  {
   "cell_type": "code",
   "execution_count": null,
   "id": "135e5ad3-f470-422b-9617-1446e1112be2",
   "metadata": {},
   "outputs": [],
   "source": []
  }
 ],
 "metadata": {
  "kernelspec": {
   "display_name": "Python 3 (ipykernel)",
   "language": "python",
   "name": "python3"
  },
  "language_info": {
   "codemirror_mode": {
    "name": "ipython",
    "version": 3
   },
   "file_extension": ".py",
   "mimetype": "text/x-python",
   "name": "python",
   "nbconvert_exporter": "python",
   "pygments_lexer": "ipython3",
   "version": "3.11.4"
  }
 },
 "nbformat": 4,
 "nbformat_minor": 5
}
