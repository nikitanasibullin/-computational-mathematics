{
 "cells": [
  {
   "cell_type": "code",
   "execution_count": 3,
   "id": "b9b5fe71-6824-4601-b295-367de4065cb4",
   "metadata": {},
   "outputs": [],
   "source": [
    "import numpy as np\n",
    "import random"
   ]
  },
  {
   "cell_type": "markdown",
   "id": "a73cbc64-80e0-4f18-a9a3-12ce57fee6db",
   "metadata": {},
   "source": [
    "## Cоздание квадратной матрицы размерности n:"
   ]
  },
  {
   "cell_type": "code",
   "execution_count": 4,
   "id": "ca6f50a4-1e05-4436-b801-f9e60c28b086",
   "metadata": {},
   "outputs": [
    {
     "name": "stdout",
     "output_type": "stream",
     "text": [
      "[[17.5606118  47.44667774 50.67379203 87.60620498 62.78549645]\n",
      " [77.45771405 49.49204487 78.88836304 39.71153949 32.60762562]\n",
      " [84.69643356 23.37852436 26.14559196 19.12875046 59.47011278]\n",
      " [34.23967234 95.75780233 91.20589     7.82414091 37.88939954]\n",
      " [ 6.76870448 59.77684494 48.73341618 60.56356619 64.33022078]]\n"
     ]
    }
   ],
   "source": [
    "n=5\n",
    "A = np.array([[random.random() for i in range(n)] for j in range(n)])*100\n",
    "print(A)"
   ]
  },
  {
   "cell_type": "markdown",
   "id": "566ece71-e3ae-4bb6-bf7c-1e907cab8517",
   "metadata": {},
   "source": [
    "## Нахождение матриц L и U"
   ]
  },
  {
   "cell_type": "code",
   "execution_count": 5,
   "id": "b67e3d53-0b57-48b7-8888-732b3587e6d3",
   "metadata": {},
   "outputs": [
    {
     "name": "stdout",
     "output_type": "stream",
     "text": [
      "L:\n",
      "[[ 1.          0.          0.          0.          0.        ]\n",
      " [ 0.40426345  1.          0.          0.          0.        ]\n",
      " [ 0.91453336  0.32571745  1.          0.          0.        ]\n",
      " [ 0.20733591  0.49358231  0.1898906   1.          0.        ]\n",
      " [ 0.07991723  0.67096164 -0.25980989  0.81553113  1.        ]]\n",
      "U:\n",
      "[[ 84.69643356  23.37852436  26.14559196  19.12875046  59.47011278]\n",
      " [  0.          86.30671944  80.63618282   0.09108627  13.84780665]\n",
      " [  0.           0.          28.71273525  22.18799064 -26.29024874]\n",
      " [  0.           0.           0.          79.38187883  48.61244529]\n",
      " [  0.           0.           0.           0.           3.81075783]]\n",
      "P:\n",
      "[[0. 0. 1. 0. 0.]\n",
      " [0. 0. 0. 1. 0.]\n",
      " [0. 1. 0. 0. 0.]\n",
      " [1. 0. 0. 0. 0.]\n",
      " [0. 0. 0. 0. 1.]]\n",
      "LU-PA:\n",
      "[[ 0.00000000e+00  0.00000000e+00  0.00000000e+00  0.00000000e+00\n",
      "   0.00000000e+00]\n",
      " [ 0.00000000e+00  0.00000000e+00  0.00000000e+00  0.00000000e+00\n",
      "   0.00000000e+00]\n",
      " [ 0.00000000e+00  0.00000000e+00  0.00000000e+00  0.00000000e+00\n",
      "   7.10542736e-15]\n",
      " [ 0.00000000e+00  0.00000000e+00  0.00000000e+00  1.42108547e-14\n",
      "  -7.10542736e-15]\n",
      " [-8.88178420e-16 -7.10542736e-15 -7.10542736e-15  0.00000000e+00\n",
      "   0.00000000e+00]]\n"
     ]
    }
   ],
   "source": [
    "L=np.eye(n)\n",
    "U=A.copy()\n",
    "P=np.eye(n)\n",
    "\n",
    "cntP=1.\n",
    "for i in range(n):\n",
    "    maximum=0\n",
    "    ind=i\n",
    "    for j in range(i,n):\n",
    "        if abs(U[j][i])>maximum:\n",
    "            maximum=abs(U[j][i])\n",
    "            ind=j\n",
    "    if(i!=ind):\n",
    "        U[[i,ind]]=U[[ind,i]]\n",
    "        P[[i,ind]]=P[[ind,i]]\n",
    "        cntP=-cntP\n",
    "    \n",
    "    U[i+1:,i] /= U[i,i]\n",
    "    U[i+1:,i+1:] -= np.outer(U[i+1:,i], U[i,i+1:])\n",
    "L=np.tril(U)\n",
    "for i in range(n):\n",
    "    L[i,i]=1.\n",
    "U=np.triu(U)\n",
    "print(f'L:\\n{L}')\n",
    "print(f'U:\\n{U}')\n",
    "print(f'P:\\n{P}')\n",
    "print(f'LU-PA:\\n{L@U-P@A}')\n",
    "\n",
    "\n",
    "    "
   ]
  },
  {
   "cell_type": "markdown",
   "id": "f85e3e7a-b8b5-4c64-b618-bf89356fbfc1",
   "metadata": {},
   "source": [
    "## Вычисление определителя"
   ]
  },
  {
   "cell_type": "code",
   "execution_count": 6,
   "id": "954bc0e6-db0a-4590-aeff-548213acb0d9",
   "metadata": {},
   "outputs": [
    {
     "name": "stdout",
     "output_type": "stream",
     "text": [
      "-63491709.92611861\n",
      "-63491709.926119246\n"
     ]
    }
   ],
   "source": [
    "print(np.linalg.det(A))\n",
    "deter=cntP\n",
    "for i in range(n):\n",
    "    deter*=U[i][i]\n",
    "    if abs(U[i][i])<1e-10:\n",
    "        deter=0\n",
    "        break\n",
    "print(deter)"
   ]
  },
  {
   "cell_type": "markdown",
   "id": "83766d32-a1f0-4c4f-8d11-7fbfb6f9fd9f",
   "metadata": {},
   "source": [
    "## Функции для решения системы с левой и правой треугольными матрицами:"
   ]
  },
  {
   "cell_type": "code",
   "execution_count": 7,
   "id": "ca9aff53-c864-403a-9de0-1f38b6ba3646",
   "metadata": {},
   "outputs": [],
   "source": [
    "def LSolution(A,b,n):\n",
    "    y=np.zeros(n)\n",
    "    for i in range(n):\n",
    "        summ=0\n",
    "        for j in range(i):\n",
    "            summ+=A[i][j]*y[j]\n",
    "        y[i]=(b[i]-summ)\n",
    "    return y\n",
    "\n",
    "def RSolution(A,b,n):\n",
    "    x=np.zeros(n)\n",
    "    for i in range(n-1,-1,-1):\n",
    "        summ=0\n",
    "        for j in range(i+1,n):\n",
    "            summ+=A[i][j]*x[j]\n",
    "        x[i]=(b[i]-summ)/A[i][i]\n",
    "    return x"
   ]
  },
  {
   "cell_type": "markdown",
   "id": "846ea6f0-9426-4e57-8b96-499c2c1471c5",
   "metadata": {},
   "source": [
    "$$LUx=b$$\n",
    "$$Ly=b$$\n",
    "$$Ux=y$$\n",
    "### Находим сначала y, а затем - х, используя предыдущие формулы\n",
    "### Генерируем b размерности [nx1]\n"
   ]
  },
  {
   "cell_type": "code",
   "execution_count": 8,
   "id": "bd081694-9554-4276-a705-7b8038b296d4",
   "metadata": {},
   "outputs": [
    {
     "name": "stdout",
     "output_type": "stream",
     "text": [
      "[28.74963352 35.68718851 25.45919049 65.84635092  8.41696228]\n",
      "[-7.10542736e-15  2.13162821e-13 -2.13162821e-14  1.13686838e-13\n",
      "  1.68753900e-13]\n"
     ]
    }
   ],
   "source": [
    "b=np.array([random.random() for i in range(n)])*100\n",
    "\n",
    "print(b)\n",
    "y = LSolution(L,P@b,n)\n",
    "x=RSolution(U,y,n)\n",
    "print(A@x-b)"
   ]
  },
  {
   "cell_type": "markdown",
   "id": "ac50e760-409e-444f-90ed-3c2c0a5963b4",
   "metadata": {},
   "source": [
    "### Функция, для нахождения решения(пригодится, чтобы найти обратную матрицу)"
   ]
  },
  {
   "cell_type": "code",
   "execution_count": 19,
   "id": "db8a34b9-8734-4d41-adda-b3eaa528fb21",
   "metadata": {},
   "outputs": [],
   "source": [
    "def findSol(P,U,L,b,n):\n",
    "    return RSolution(U, LSolution(L,P@b,n),n)"
   ]
  },
  {
   "cell_type": "markdown",
   "id": "9c89631e-6bc8-464b-9448-14af9b1d8524",
   "metadata": {},
   "source": [
    "### Находим обратную матрицу "
   ]
  },
  {
   "cell_type": "code",
   "execution_count": 1,
   "id": "1a38e432-743f-40bb-9cc0-f24639b79c3e",
   "metadata": {},
   "outputs": [],
   "source": [
    "def InverseMatrix(P,U,L,n):\n",
    "    E=np.eye(n)\n",
    "    rev=np.empty((n,0))\n",
    "    for i in range(n):\n",
    "        x=findSol(P,U,L,E[:,i],n)\n",
    "        rev=np.column_stack((rev,x))\n",
    "    return rev"
   ]
  },
  {
   "cell_type": "code",
   "execution_count": 2,
   "id": "40195e24-ebd5-44ea-a6eb-32217c15ad61",
   "metadata": {},
   "outputs": [
    {
     "ename": "NameError",
     "evalue": "name 'P' is not defined",
     "output_type": "error",
     "traceback": [
      "\u001b[1;31m---------------------------------------------------------------------------\u001b[0m",
      "\u001b[1;31mNameError\u001b[0m                                 Traceback (most recent call last)",
      "Cell \u001b[1;32mIn[2], line 1\u001b[0m\n\u001b[1;32m----> 1\u001b[0m rev \u001b[38;5;241m=\u001b[39m (InverseMatrix(\u001b[43mP\u001b[49m,U,L,n))\n\u001b[0;32m      3\u001b[0m \u001b[38;5;28mprint\u001b[39m(\u001b[38;5;124mf\u001b[39m\u001b[38;5;124m'\u001b[39m\u001b[38;5;124mA^(-1):\u001b[39m\u001b[38;5;130;01m\\n\u001b[39;00m\u001b[38;5;132;01m{\u001b[39;00mrev\u001b[38;5;132;01m}\u001b[39;00m\u001b[38;5;124m'\u001b[39m)\n\u001b[0;32m      4\u001b[0m \u001b[38;5;28mprint\u001b[39m(\u001b[38;5;124mf\u001b[39m\u001b[38;5;124m'\u001b[39m\u001b[38;5;124mA^(-1)*A:\u001b[39m\u001b[38;5;130;01m\\n\u001b[39;00m\u001b[38;5;132;01m{\u001b[39;00mrev\u001b[38;5;129m@A\u001b[39m\u001b[38;5;132;01m}\u001b[39;00m\u001b[38;5;124m'\u001b[39m)\n",
      "\u001b[1;31mNameError\u001b[0m: name 'P' is not defined"
     ]
    }
   ],
   "source": [
    "rev = (InverseMatrix(P,U,L,n))\n",
    "\n",
    "print(f'A^(-1):\\n{rev}')\n",
    "print(f'A^(-1)*A:\\n{rev@A}')\n",
    "print(f'A*A^(-1):\\n{A@rev}')"
   ]
  },
  {
   "cell_type": "code",
   "execution_count": 28,
   "id": "8fbf3a1b-00b3-48d9-b1a7-1e2ff983dbf9",
   "metadata": {},
   "outputs": [],
   "source": [
    "def MaxAbsElement(A,n):\n",
    "    oness=np.ones(n)\n",
    "    maxV = max(abs(A)@oness)\n",
    "    return float(maxV)\n",
    "            "
   ]
  },
  {
   "cell_type": "markdown",
   "id": "2ed32215-d160-4f9a-98f9-276871040107",
   "metadata": {},
   "source": [
    "## Нахождение числа обусловенности\n",
    "### Метрика - $inf$"
   ]
  },
  {
   "cell_type": "code",
   "execution_count": 29,
   "id": "66dd19ba-01a2-4c59-a28a-5f18b7bfc77d",
   "metadata": {},
   "outputs": [
    {
     "name": "stdout",
     "output_type": "stream",
     "text": [
      "0.10409787635222892  *  270.54539787001016 = 28.163201375136897\n"
     ]
    }
   ],
   "source": [
    "maximufOfA = MaxAbsElement(A,n)\n",
    "maximumOfMinA = MaxAbsElement(rev,n)\n",
    "condNumber = maximumOfMinA*maximufOfA\n",
    "print(f'{maximumOfMinA}  *  {maximufOfA} = {condNumber}')"
   ]
  },
  {
   "cell_type": "code",
   "execution_count": null,
   "id": "e5a82bf8-8cdc-4877-804c-c4f5e00a7e42",
   "metadata": {},
   "outputs": [],
   "source": []
  }
 ],
 "metadata": {
  "kernelspec": {
   "display_name": "Python 3 (ipykernel)",
   "language": "python",
   "name": "python3"
  },
  "language_info": {
   "codemirror_mode": {
    "name": "ipython",
    "version": 3
   },
   "file_extension": ".py",
   "mimetype": "text/x-python",
   "name": "python",
   "nbconvert_exporter": "python",
   "pygments_lexer": "ipython3",
   "version": "3.11.4"
  }
 },
 "nbformat": 4,
 "nbformat_minor": 5
}
