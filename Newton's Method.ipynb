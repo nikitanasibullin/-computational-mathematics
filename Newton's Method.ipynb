{
 "cells": [
  {
   "cell_type": "code",
   "execution_count": 1,
   "id": "b17676b3-5e61-48db-bc8e-956d9a941949",
   "metadata": {},
   "outputs": [],
   "source": [
    "import numpy\n",
    "import math\n",
    "import time"
   ]
  },
  {
   "cell_type": "markdown",
   "id": "a7045c59-4304-440c-b085-571e84177ffb",
   "metadata": {},
   "source": [
    "## Система уравнений и якобиан:"
   ]
  },
  {
   "cell_type": "code",
   "execution_count": 2,
   "id": "b53a37ff-ebd1-4a56-be0e-8908657b96e1",
   "metadata": {},
   "outputs": [],
   "source": [
    "x = [0.5, 0.5, 1.5, -1.0, -0.5, 1.5, 0.5, -0.5, 1.5, -1.5]\n",
    "\n",
    "mathJF=700\n",
    "mathLU = 1050\n",
    "\n",
    "def F(x):\n",
    "    [x1, x2, x3, x4, x5, x6, x7, x8, x9, x10] = x\n",
    "    return numpy.asmatrix([\n",
    "    math.cos(x2 * x1) - math.exp(-3 * x3) + x4 * x5 ** 2 - x6 - math.sinh(2 * x8) * x9 + 2 * x10 + 2.000433974165385440,\n",
    "    math.sin(x2 * x1) + x3 * x9 * x7 - math.exp(-x10 + x6) + 3 * x5 ** 2 - x6 * (x8 + 1) + 10.886272036407019994,\n",
    "    x1 - x2 + x3 - x4 + x5 - x6 + x7 - x8 + x9 - x10 - 3.1361904761904761904,\n",
    "    2 * math.cos(-x9 + x4) + x5 / (x3 + x1) - math.sin(x2 ** 2) + math.cos(x7 * x10) ** 2 - x8 - 0.1707472705022304757,\n",
    "    math.sin(x5) + 2 * x8 * (x3 + x1) - math.exp(-x7 * (-x10 + x6)) + 2 * math.cos(x2) - 1.0 / (-x9 + x4) - 0.3685896273101277862,\n",
    "    math.exp(x1 - x4 - x9) + x5 ** 2 / x8 + math.cos(3 * x10 * x2) / 2 - x6 * x3 + 2.0491086016771875115,\n",
    "    x2 ** 3 * x7 - math.sin(x10 / x5 + x8) + (x1 - x6) * math.cos(x4) + x3 - 0.7380430076202798014,\n",
    "    x5 * (x1 - 2 * x6) ** 2 - 2 * math.sin(-x9 + x3) + 0.15e1 * x4 - math.exp(x2 * x7 + x10) + 3.5668321989693809040,\n",
    "    7 / x6 + math.exp(x5 + x4) - 2 * x2 * x8 * x10 * x7 + 3 * x9 - 3 * x1 - 8.4394734508383257499,\n",
    "    x10 * x1 + x9 * x2 - x8 * x3 + math.sin(x4 + x5 + x6) * x7 - 0.78238095238095238096])\n",
    "\n",
    "def J(x):\n",
    "    [x1, x2, x3, x4, x5, x6, x7, x8, x9, x10] = x\n",
    "    return numpy.asmatrix([[-x2 * math.sin(x2 * x1), -x1 * math.sin(x2 * x1), 3 * math.exp(-3 * x3), x5 ** 2, 2 * x4 * x5,\n",
    "                -1, 0, -2 * math.cosh(2 * x8) * x9, -math.sinh(2 * x8), 2],\n",
    "               [x2 * math.cos(x2 * x1), x1 * math.cos(x2 * x1), x9 * x7, 0, 6 * x5,\n",
    "                -math.exp(-x10 + x6) - x8 - 1, x3 * x9, -x6, x3 * x7, math.exp(-x10 + x6)],\n",
    "               [1, -1, 1, -1, 1, -1, 1, -1, 1, -1],\n",
    "               [-x5 / (x3 + x1) ** 2, -2 * x2 * math.cos(x2 ** 2), -x5 / (x3 + x1) ** 2, -2 * math.sin(-x9 + x4),\n",
    "                1.0 / (x3 + x1), 0, -2 * math.cos(x7 * x10) * x10 * math.sin(x7 * x10), -1,\n",
    "                2 * math.sin(-x9 + x4), -2 * math.cos(x7 * x10) * x7 * math.sin(x7 * x10)],\n",
    "               [2 * x8, -2 * math.sin(x2), 2 * x8, 1.0 / (-x9 + x4) ** 2, math.cos(x5),\n",
    "                x7 * math.exp(-x7 * (-x10 + x6)), -(x10 - x6) * math.exp(-x7 * (-x10 + x6)), 2 * x3 + 2 * x1,\n",
    "                -1.0 / (-x9 + x4) ** 2, -x7 * math.exp(-x7 * (-x10 + x6))],\n",
    "               [math.exp(x1 - x4 - x9), -1.5 * x10 * math.sin(3 * x10 * x2), -x6,-math.exp(x1 - x4 - x9),\n",
    "                2 * x5 / x8, -x3, 0, -x5 ** 2 / x8 ** 2, -math.exp(x1 - x4 - x9), -1.5 * x2 * math.sin(3 * x10 * x2)],\n",
    "               [math.cos(x4), 3 * x2 ** 2 * x7, 1, -(x1 - x6) * math.sin(x4), x10 / x5 ** 2 * math.cos(x10 / x5 + x8),\n",
    "                -math.cos(x4), x2 ** 3, -math.cos(x10 / x5 + x8), 0, -1.0 / x5 * math.cos(x10 / x5 + x8)],\n",
    "               [2 * x5 * (x1 - 2 * x6), -x7 * math.exp(x2 * x7 + x10), -2 * math.cos(-x9 + x3), 1.5,\n",
    "               (x1 - 2 * x6) ** 2, -4 * x5 * (x1 - 2 * x6), -x2 * math.exp(x2 * x7 + x10), 0, 2 * math.cos(-x9 + x3),\n",
    "                -math.exp(x2 * x7 + x10)],\n",
    "               [-3, -2 * x8 * x10 * x7, 0, math.exp(x5 + x4), math.exp(x5 + x4),\n",
    "                -7.0 / x6 ** 2, -2 * x2 * x8 * x10, -2 * x2 * x10 * x7, 3, -2 * x2 * x8 * x7],\n",
    "               [x10, x9, -x8, math.cos(x4 + x5 + x6) * x7, math.cos(x4 + x5 + x6) * x7,\n",
    "                math.cos(x4 + x5 + x6) * x7, math.sin(x4 + x5 + x6), -x3, x2, x1]])\n",
    "\n"
   ]
  },
  {
   "cell_type": "markdown",
   "id": "770dcf26-3749-4c0b-a4e0-80c65702e92c",
   "metadata": {},
   "source": [
    "### Различные функции, для решения СЛАУ"
   ]
  },
  {
   "cell_type": "code",
   "execution_count": 3,
   "id": "056b50e5-c6a6-4513-a1d9-192421300327",
   "metadata": {},
   "outputs": [],
   "source": [
    "def LSolution(A,b,n):\n",
    "    y=numpy.zeros(n)\n",
    "    for i in range(n):\n",
    "        summ=0\n",
    "        for j in range(i):\n",
    "            summ+=A[i][j]*y[j]\n",
    "        y[i]=(b[i]-summ).item()\n",
    "    return y\n",
    "\n",
    "def RSolution(A,b,n):\n",
    "    x=numpy.zeros(n)\n",
    "    for i in range(n-1,-1,-1):\n",
    "        summ=0\n",
    "        for j in range(i+1,n):\n",
    "            summ+=A[i][j]*x[j]\n",
    "        x[i]=(b[i]-summ)/A[i][i]\n",
    "    return x\n",
    "\n",
    "def FindLU(A,n):\n",
    "    U=A.copy()\n",
    "    P=numpy.eye(n)\n",
    "    L=numpy.eye(n)\n",
    "    cntP=1.\n",
    "    for i in range(n):\n",
    "        maximum=0\n",
    "        ind=i\n",
    "        for j in range(i,n):\n",
    "            if abs(U[j,i])>maximum:\n",
    "                maximum=abs(U[j,i])\n",
    "                ind=j\n",
    "        if(i!=ind):\n",
    "            U[[i,ind]]=U[[ind,i]]\n",
    "            P[[i,ind]]=P[[ind,i]]\n",
    "            cntP=-cntP\n",
    "            \n",
    "        U[i+1:,i] /= U[i,i]\n",
    "        U[i+1:,i+1:] -= numpy.outer(U[i+1:,i], U[i,i+1:])\n",
    "    L=numpy.tril(U)\n",
    "    for i in range(n):\n",
    "        L[i,i]=1.\n",
    "    U=numpy.triu(U)\n",
    "    return L,U,P\n",
    "    \n",
    "def findSol(b,n,L,U,P):\n",
    "    return RSolution(U, LSolution(L,P@b.T,n),n)\n"
   ]
  },
  {
   "cell_type": "markdown",
   "id": "221e4f1d-6feb-4861-8574-d4c6c94baeca",
   "metadata": {},
   "source": [
    "# Метод Ньютона"
   ]
  },
  {
   "cell_type": "code",
   "execution_count": 5,
   "id": "386c4aa3-e210-45b4-8667-e7656582e286",
   "metadata": {},
   "outputs": [
    {
     "name": "stdout",
     "output_type": "stream",
     "text": [
      "cntIteration=19\n",
      "cntOpeeration~=33250\n",
      "Time~=-0.01613616943359375\n",
      "[[-4.44089210e-16 -3.55271368e-15  0.00000000e+00  1.94289029e-16\n",
      "   1.11022302e-16  0.00000000e+00  0.00000000e+00  4.44089210e-16\n",
      "   0.00000000e+00  0.00000000e+00]]\n"
     ]
    }
   ],
   "source": [
    "x = [0.5, 0.5, 1.5, -1.0, -0.5, 1.5, 0.5, -0.5, 1.5, -1.5]\n",
    "cntOperation = 0\n",
    "cntIteration = 0\n",
    "dxk=[1,1,1,1,1,1,1,1,1,1]\n",
    "startTime=time.time()\n",
    "while True:\n",
    "    L,U,P = FindLU(J(x),10)\n",
    "    dxk=findSol(-F(x),10,L,U,P)\n",
    "    cntOperation+=mathLU # - LU\n",
    "    cntOperation+=mathJF # J and F\n",
    "    cntIteration+=1\n",
    "    x=x+dxk\n",
    "    if max(dxk)<1e-16:\n",
    "        break\n",
    "finishTime=time.time()\n",
    "print(f'cntIteration={cntIteration}')\n",
    "print(f'cntOpeeration~={cntOperation}')\n",
    "print(f'Time~={startTime-finishTime}')\n",
    "print(F(x))"
   ]
  },
  {
   "cell_type": "markdown",
   "id": "f9e36e9d-83b9-4217-86b1-6a4228475242",
   "metadata": {},
   "source": [
    "# Модифицированный метод Ньютона"
   ]
  },
  {
   "cell_type": "code",
   "execution_count": 6,
   "id": "c874688a-e523-43ef-a504-18b49d24b210",
   "metadata": {},
   "outputs": [
    {
     "name": "stdout",
     "output_type": "stream",
     "text": [
      "cntIteration=175\n",
      "cntOpeeration~=184450\n",
      "Time~=-0.034378767013549805\n",
      "\n",
      "[[ 1.40265577e-11 -1.17168497e-10  0.00000000e+00 -2.23395746e-11\n",
      "   1.22213351e-12  3.37587736e-11  1.54080082e-10 -1.70086167e-12\n",
      "  -1.03147713e-10 -7.47973905e-11]]\n"
     ]
    }
   ],
   "source": [
    "x = [0.5, 0.5, 1.5, -1.0, -0.5, 1.5, 0.5, -0.5, 1.5, -1.5]\n",
    "cntOperation = 0\n",
    "cntIteration = 0\n",
    "dxk=[1,1,1,1,1,1,1,1,1,1]\n",
    "startTime=time.time()\n",
    "Jconst=J(x)\n",
    "L,U,P = FindLU(J(x),10)\n",
    "cntOperation+=mathJF\n",
    "while max(dxk)>1e-10:\n",
    "    dxk=findSol(-F(x),10,L,U,P)\n",
    "    cntOperation+=mathLU # - LU\n",
    "    cntIteration+=1\n",
    "    x=x+dxk\n",
    "finishTime=time.time()\n",
    "print(f'cntIteration={cntIteration}')\n",
    "print(f'cntOpeeration~={cntOperation}')\n",
    "print(f'Time~={startTime-finishTime}')\n",
    "print()\n",
    "print(F(x))"
   ]
  },
  {
   "cell_type": "markdown",
   "id": "e2ce1683-90f7-4a30-b56c-e324f9cf3899",
   "metadata": {},
   "source": [
    "# Метод Ньютона с начальными k вычислениями Якобиана"
   ]
  },
  {
   "cell_type": "code",
   "execution_count": 7,
   "id": "77eeb9a1-0a9c-4545-9a32-c233a234b1c0",
   "metadata": {},
   "outputs": [
    {
     "name": "stdout",
     "output_type": "stream",
     "text": [
      "cntIteration=19\n",
      "cntOpeeration~=22050\n",
      "Time~=-0.0050013065338134766\n",
      "\n",
      "[[ 0.00000000e+00  0.00000000e+00  0.00000000e+00  2.77555756e-16\n",
      "  -1.11022302e-16  4.44089210e-16  0.00000000e+00 -4.44089210e-16\n",
      "  -1.77635684e-15  1.11022302e-16]]\n"
     ]
    }
   ],
   "source": [
    "k = 4\n",
    "x = [0.5, 0.5, 1.5, -1.0, -0.5, 1.5, 0.5, -0.5, 1.5, -1.5]\n",
    "cntOperation = 0\n",
    "cntIteration = 0\n",
    "dxk=[1,1,1,1,1,1,1,1,1,1]\n",
    "startTime=time.time()\n",
    "L,U,P = FindLU(J(x),10)\n",
    "k-=1\n",
    "while max(dxk)>1e-16:\n",
    "    dxk=findSol(-F(x),10,L,U,P)\n",
    "    cntOperation+=mathLU # - LU\n",
    "    cntIteration+=1\n",
    "    x=x+dxk\n",
    "    if k>0:\n",
    "        cntOperation+=mathJF # - counting J and F\n",
    "        k-=1\n",
    "        L,U,P=FindLU(J(x),10)\n",
    "finishTime=time.time()\n",
    "print(f'cntIteration={cntIteration}')\n",
    "print(f'cntOpeeration~={cntOperation}')\n",
    "print(f'Time~={startTime-finishTime}')\n",
    "print()\n",
    "print(F(x))"
   ]
  },
  {
   "cell_type": "markdown",
   "id": "40034c8d-6082-4ea2-af62-d7f7a821f03f",
   "metadata": {},
   "source": [
    "# Метод Ньютона с вычислениями якобиана каждую m-ую итерацию"
   ]
  },
  {
   "cell_type": "code",
   "execution_count": 8,
   "id": "e8d3892c-1aa4-4f23-8fbf-99b1c2c6b8a5",
   "metadata": {},
   "outputs": [
    {
     "name": "stdout",
     "output_type": "stream",
     "text": [
      "cntIteration=17\n",
      "cntOpeeration~=20650\n",
      "Time~=-0.013158798217773438\n",
      "[ 0.37306471  0.59384585  1.61029711 -0.56065657 -0.3439438   1.28206619\n",
      "  0.22015631 -0.22996142  1.2535575  -1.10835269]\n",
      "[[-4.44089210e-16  0.00000000e+00  4.44089210e-16  2.77555756e-17\n",
      "   1.11022302e-16  4.44089210e-16 -1.11022302e-16 -4.44089210e-16\n",
      "   1.77635684e-15 -1.11022302e-16]]\n"
     ]
    }
   ],
   "source": [
    "x = [0.5, 0.5, 1.5, -1.0, -0.5, 1.5, 0.5, -0.5, 1.5, -1.5]\n",
    "m=4 #optimnal\n",
    "cntOperation = 0\n",
    "cntIteration = 0\n",
    "dxk=[1,1,1,1,1,1,1,1,1,1]\n",
    "startTime=time.time()\n",
    "L,U,P = FindLU(J(x),10)\n",
    "while max(dxk)>1e-16:\n",
    "    dxk=findSol(-F(x),10,L,U,P)\n",
    "    cntOperation+=mathLU # - LU\n",
    "    cntIteration+=1\n",
    "    x=x+dxk\n",
    "    if cntIteration%m==0:\n",
    "        L,U,P = FindLU(J(x),10)\n",
    "        cntOperation+=mathJF # - counting J and F\n",
    "finishTime=time.time()\n",
    "print(f'cntIteration={cntIteration}')\n",
    "print(f'cntOpeeration~={cntOperation}')\n",
    "print(f'Time~={startTime-finishTime}')\n",
    "print(x)\n",
    "print(F(x))"
   ]
  },
  {
   "cell_type": "markdown",
   "id": "f8e48b46-7127-44d7-b7a4-d252056a7a3e",
   "metadata": {},
   "source": [
    "# Метод Ньютона с вычислениями якобиана каждую m-ую итерацию и первыми k вычислениями"
   ]
  },
  {
   "cell_type": "code",
   "execution_count": 9,
   "id": "e7fe76f4-03c7-47dc-9c44-d42aea0e6b98",
   "metadata": {},
   "outputs": [
    {
     "name": "stdout",
     "output_type": "stream",
     "text": [
      "cntIteration=29\n",
      "cntOpeeration~=31850\n",
      "Time~=-0.005998373031616211\n",
      "[ 0.28454066  0.65670205  1.93561608 -0.66625494 -0.14784357  1.29914642\n",
      "  0.02971271 -0.15388862  1.15599747 -1.01387203]\n",
      "[[ 0.00000000e+00  0.00000000e+00  0.00000000e+00 -4.16333634e-16\n",
      "  -1.11022302e-16 -4.44089210e-16  1.11022302e-16  4.44089210e-16\n",
      "   0.00000000e+00  1.11022302e-16]]\n"
     ]
    }
   ],
   "source": [
    "x = [0.5, 0.5, 1.5, -1.0, -0.2, 1.5, 0.5, -0.5, 1.5, -1.5]\n",
    "\n",
    "#PARAMETRES\n",
    "m=12 #optimnal\n",
    "k=1000 #optimal\n",
    "\n",
    "cntOperation = 0\n",
    "cntIteration = 0\n",
    "dxk=[1,1,1,1,1,1,1,1,1,1]\n",
    "startTime=time.time()\n",
    "L,U,P = FindLU(J(x),10)\n",
    "k-=1\n",
    "while max(dxk)>1e-16:\n",
    "    dxk=findSol(-F(x),10,L,U,P)\n",
    "    cntOperation+=mathLU # - LU\n",
    "    cntIteration+=1\n",
    "    x=x+dxk\n",
    "    k-=1\n",
    "    if k>0 and cntIteration%m==0:\n",
    "        cntOperation+=mathJF # - counting J and F\n",
    "        L,U,P = FindLU(J(x),10)\n",
    "        continue\n",
    "finishTime=time.time()\n",
    "print(f'cntIteration={cntIteration}')\n",
    "print(f'cntOpeeration~={cntOperation}')\n",
    "print(f'Time~={startTime-finishTime}')\n",
    "print(x)\n",
    "print(F(x))"
   ]
  },
  {
   "cell_type": "markdown",
   "id": "cb0a6d56-2a12-4558-a6a8-2d07c4b158ef",
   "metadata": {},
   "source": [
    "# Метод Ньютона при начальных параметрах, которые переполняются(если не пересчитывать якобиан)"
   ]
  },
  {
   "cell_type": "code",
   "execution_count": 11,
   "id": "058a1802-eea9-43a0-9d00-6252136999e4",
   "metadata": {
    "scrolled": true
   },
   "outputs": [
    {
     "name": "stdout",
     "output_type": "stream",
     "text": [
      "cntIteration=26\n",
      "cntOpeeration~=30900\n",
      "Time~=-0.007999658584594727\n",
      "[ 0.19552481  0.67428139  2.07953929 -0.75401024 -0.06440347  1.30032885\n",
      " -0.03466094 -0.13112513  1.06520985 -0.9844558 ]\n",
      "[[ 4.44089210e-16  0.00000000e+00 -4.44089210e-16  1.94289029e-16\n",
      "  -1.11022302e-16  0.00000000e+00 -3.33066907e-16  0.00000000e+00\n",
      "  -1.77635684e-15 -1.11022302e-16]]\n"
     ]
    }
   ],
   "source": [
    "k = 8\n",
    "x = [0.5, 0.5, 1.5, -1.0, -0.2, 1.5, 0.5, -0.5, 1.5, -1.5]\n",
    "cntOperation = 0\n",
    "cntIteration = 0\n",
    "dxk=[1,1,1,1,1,1,1,1,1,1]\n",
    "startTime=time.time()\n",
    "L,U,P = FindLU(J(x),10)\n",
    "k-=1\n",
    "while max(dxk)>1e-16:\n",
    "    dxk=findSol(-F(x),10,L,U,P)\n",
    "    cntOperation+=1000 # - LU\n",
    "    cntIteration+=1\n",
    "    x=x+dxk\n",
    "    if k>0:\n",
    "        cntOperation += mathJF # - counting J and F\n",
    "        k-=1\n",
    "        L,U,P = FindLU(J(x),10)\n",
    "finishTime=time.time()\n",
    "print(f'cntIteration={cntIteration}')\n",
    "print(f'cntOpeeration~={cntOperation}')\n",
    "print(f'Time~={startTime-finishTime}')\n",
    "print(x)\n",
    "print(F(x))"
   ]
  },
  {
   "cell_type": "code",
   "execution_count": null,
   "id": "731daec2-d783-4efd-889c-3ed2ce22d609",
   "metadata": {},
   "outputs": [],
   "source": []
  }
 ],
 "metadata": {
  "kernelspec": {
   "display_name": "Python 3 (ipykernel)",
   "language": "python",
   "name": "python3"
  },
  "language_info": {
   "codemirror_mode": {
    "name": "ipython",
    "version": 3
   },
   "file_extension": ".py",
   "mimetype": "text/x-python",
   "name": "python",
   "nbconvert_exporter": "python",
   "pygments_lexer": "ipython3",
   "version": "3.11.4"
  }
 },
 "nbformat": 4,
 "nbformat_minor": 5
}
